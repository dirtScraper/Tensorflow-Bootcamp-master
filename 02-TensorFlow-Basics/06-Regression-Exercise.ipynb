{
 "cells": [
  {
   "cell_type": "markdown",
   "metadata": {},
   "source": [
    "# Regression Exercise \n",
    "\n",
    "California Housing Data\n",
    "\n",
    "This data set contains information about all the block groups in California from the 1990 Census. In this sample a block group on average includes 1425.5 individuals living in a geographically compact area. \n",
    "\n",
    "The task is to aproximate the median house value of each block from the values of the rest of the variables. \n",
    "\n",
    " It has been obtained from the LIACC repository. The original page where the data set can be found is: http://www.liaad.up.pt/~ltorgo/Regression/DataSets.html.\n",
    " "
   ]
  },
  {
   "cell_type": "markdown",
   "metadata": {
    "collapsed": true
   },
   "source": [
    "The Features:\n",
    " \n",
    "* housingMedianAge: continuous. \n",
    "* totalRooms: continuous. \n",
    "* totalBedrooms: continuous. \n",
    "* population: continuous. \n",
    "* households: continuous. \n",
    "* medianIncome: continuous. \n",
    "* medianHouseValue: continuous. "
   ]
  },
  {
   "cell_type": "markdown",
   "metadata": {},
   "source": [
    "## The Data"
   ]
  },
  {
   "cell_type": "markdown",
   "metadata": {},
   "source": [
    "** Import the cal_housing_clean.csv file with pandas. Separate it into a training (70%) and testing set(30%).**"
   ]
  },
  {
   "cell_type": "code",
   "execution_count": 1,
   "metadata": {},
   "outputs": [],
   "source": [
    "import pandas as pd\n",
    "from sklearn.model_selection import train_test_split"
   ]
  },
  {
   "cell_type": "code",
   "execution_count": 2,
   "metadata": {},
   "outputs": [],
   "source": [
    "housing = pd.read_csv(\"cal_housing_clean.csv\")"
   ]
  },
  {
   "cell_type": "code",
   "execution_count": 3,
   "metadata": {},
   "outputs": [
    {
     "data": {
      "text/html": [
       "<div>\n",
       "<style scoped>\n",
       "    .dataframe tbody tr th:only-of-type {\n",
       "        vertical-align: middle;\n",
       "    }\n",
       "\n",
       "    .dataframe tbody tr th {\n",
       "        vertical-align: top;\n",
       "    }\n",
       "\n",
       "    .dataframe thead th {\n",
       "        text-align: right;\n",
       "    }\n",
       "</style>\n",
       "<table border=\"1\" class=\"dataframe\">\n",
       "  <thead>\n",
       "    <tr style=\"text-align: right;\">\n",
       "      <th></th>\n",
       "      <th>housingMedianAge</th>\n",
       "      <th>totalRooms</th>\n",
       "      <th>totalBedrooms</th>\n",
       "      <th>population</th>\n",
       "      <th>households</th>\n",
       "      <th>medianIncome</th>\n",
       "      <th>medianHouseValue</th>\n",
       "    </tr>\n",
       "  </thead>\n",
       "  <tbody>\n",
       "    <tr>\n",
       "      <th>0</th>\n",
       "      <td>41.0</td>\n",
       "      <td>880.0</td>\n",
       "      <td>129.0</td>\n",
       "      <td>322.0</td>\n",
       "      <td>126.0</td>\n",
       "      <td>8.3252</td>\n",
       "      <td>452600.0</td>\n",
       "    </tr>\n",
       "    <tr>\n",
       "      <th>1</th>\n",
       "      <td>21.0</td>\n",
       "      <td>7099.0</td>\n",
       "      <td>1106.0</td>\n",
       "      <td>2401.0</td>\n",
       "      <td>1138.0</td>\n",
       "      <td>8.3014</td>\n",
       "      <td>358500.0</td>\n",
       "    </tr>\n",
       "    <tr>\n",
       "      <th>2</th>\n",
       "      <td>52.0</td>\n",
       "      <td>1467.0</td>\n",
       "      <td>190.0</td>\n",
       "      <td>496.0</td>\n",
       "      <td>177.0</td>\n",
       "      <td>7.2574</td>\n",
       "      <td>352100.0</td>\n",
       "    </tr>\n",
       "    <tr>\n",
       "      <th>3</th>\n",
       "      <td>52.0</td>\n",
       "      <td>1274.0</td>\n",
       "      <td>235.0</td>\n",
       "      <td>558.0</td>\n",
       "      <td>219.0</td>\n",
       "      <td>5.6431</td>\n",
       "      <td>341300.0</td>\n",
       "    </tr>\n",
       "    <tr>\n",
       "      <th>4</th>\n",
       "      <td>52.0</td>\n",
       "      <td>1627.0</td>\n",
       "      <td>280.0</td>\n",
       "      <td>565.0</td>\n",
       "      <td>259.0</td>\n",
       "      <td>3.8462</td>\n",
       "      <td>342200.0</td>\n",
       "    </tr>\n",
       "  </tbody>\n",
       "</table>\n",
       "</div>"
      ],
      "text/plain": [
       "   housingMedianAge  totalRooms  totalBedrooms  population  households  \\\n",
       "0              41.0       880.0          129.0       322.0       126.0   \n",
       "1              21.0      7099.0         1106.0      2401.0      1138.0   \n",
       "2              52.0      1467.0          190.0       496.0       177.0   \n",
       "3              52.0      1274.0          235.0       558.0       219.0   \n",
       "4              52.0      1627.0          280.0       565.0       259.0   \n",
       "\n",
       "   medianIncome  medianHouseValue  \n",
       "0        8.3252          452600.0  \n",
       "1        8.3014          358500.0  \n",
       "2        7.2574          352100.0  \n",
       "3        5.6431          341300.0  \n",
       "4        3.8462          342200.0  "
      ]
     },
     "execution_count": 3,
     "metadata": {},
     "output_type": "execute_result"
    }
   ],
   "source": [
    "housing.head()"
   ]
  },
  {
   "cell_type": "code",
   "execution_count": 4,
   "metadata": {},
   "outputs": [
    {
     "data": {
      "text/html": [
       "<div>\n",
       "<style scoped>\n",
       "    .dataframe tbody tr th:only-of-type {\n",
       "        vertical-align: middle;\n",
       "    }\n",
       "\n",
       "    .dataframe tbody tr th {\n",
       "        vertical-align: top;\n",
       "    }\n",
       "\n",
       "    .dataframe thead th {\n",
       "        text-align: right;\n",
       "    }\n",
       "</style>\n",
       "<table border=\"1\" class=\"dataframe\">\n",
       "  <thead>\n",
       "    <tr style=\"text-align: right;\">\n",
       "      <th></th>\n",
       "      <th>housingMedianAge</th>\n",
       "      <th>totalRooms</th>\n",
       "      <th>totalBedrooms</th>\n",
       "      <th>population</th>\n",
       "      <th>households</th>\n",
       "      <th>medianIncome</th>\n",
       "      <th>medianHouseValue</th>\n",
       "    </tr>\n",
       "  </thead>\n",
       "  <tbody>\n",
       "    <tr>\n",
       "      <th>count</th>\n",
       "      <td>20640.000000</td>\n",
       "      <td>20640.000000</td>\n",
       "      <td>20640.000000</td>\n",
       "      <td>20640.000000</td>\n",
       "      <td>20640.000000</td>\n",
       "      <td>20640.000000</td>\n",
       "      <td>20640.000000</td>\n",
       "    </tr>\n",
       "    <tr>\n",
       "      <th>mean</th>\n",
       "      <td>28.639486</td>\n",
       "      <td>2635.763081</td>\n",
       "      <td>537.898014</td>\n",
       "      <td>1425.476744</td>\n",
       "      <td>499.539680</td>\n",
       "      <td>3.870671</td>\n",
       "      <td>206855.816909</td>\n",
       "    </tr>\n",
       "    <tr>\n",
       "      <th>std</th>\n",
       "      <td>12.585558</td>\n",
       "      <td>2181.615252</td>\n",
       "      <td>421.247906</td>\n",
       "      <td>1132.462122</td>\n",
       "      <td>382.329753</td>\n",
       "      <td>1.899822</td>\n",
       "      <td>115395.615874</td>\n",
       "    </tr>\n",
       "    <tr>\n",
       "      <th>min</th>\n",
       "      <td>1.000000</td>\n",
       "      <td>2.000000</td>\n",
       "      <td>1.000000</td>\n",
       "      <td>3.000000</td>\n",
       "      <td>1.000000</td>\n",
       "      <td>0.499900</td>\n",
       "      <td>14999.000000</td>\n",
       "    </tr>\n",
       "    <tr>\n",
       "      <th>25%</th>\n",
       "      <td>18.000000</td>\n",
       "      <td>1447.750000</td>\n",
       "      <td>295.000000</td>\n",
       "      <td>787.000000</td>\n",
       "      <td>280.000000</td>\n",
       "      <td>2.563400</td>\n",
       "      <td>119600.000000</td>\n",
       "    </tr>\n",
       "    <tr>\n",
       "      <th>50%</th>\n",
       "      <td>29.000000</td>\n",
       "      <td>2127.000000</td>\n",
       "      <td>435.000000</td>\n",
       "      <td>1166.000000</td>\n",
       "      <td>409.000000</td>\n",
       "      <td>3.534800</td>\n",
       "      <td>179700.000000</td>\n",
       "    </tr>\n",
       "    <tr>\n",
       "      <th>75%</th>\n",
       "      <td>37.000000</td>\n",
       "      <td>3148.000000</td>\n",
       "      <td>647.000000</td>\n",
       "      <td>1725.000000</td>\n",
       "      <td>605.000000</td>\n",
       "      <td>4.743250</td>\n",
       "      <td>264725.000000</td>\n",
       "    </tr>\n",
       "    <tr>\n",
       "      <th>max</th>\n",
       "      <td>52.000000</td>\n",
       "      <td>39320.000000</td>\n",
       "      <td>6445.000000</td>\n",
       "      <td>35682.000000</td>\n",
       "      <td>6082.000000</td>\n",
       "      <td>15.000100</td>\n",
       "      <td>500001.000000</td>\n",
       "    </tr>\n",
       "  </tbody>\n",
       "</table>\n",
       "</div>"
      ],
      "text/plain": [
       "       housingMedianAge    totalRooms  totalBedrooms    population  \\\n",
       "count      20640.000000  20640.000000   20640.000000  20640.000000   \n",
       "mean          28.639486   2635.763081     537.898014   1425.476744   \n",
       "std           12.585558   2181.615252     421.247906   1132.462122   \n",
       "min            1.000000      2.000000       1.000000      3.000000   \n",
       "25%           18.000000   1447.750000     295.000000    787.000000   \n",
       "50%           29.000000   2127.000000     435.000000   1166.000000   \n",
       "75%           37.000000   3148.000000     647.000000   1725.000000   \n",
       "max           52.000000  39320.000000    6445.000000  35682.000000   \n",
       "\n",
       "         households  medianIncome  medianHouseValue  \n",
       "count  20640.000000  20640.000000      20640.000000  \n",
       "mean     499.539680      3.870671     206855.816909  \n",
       "std      382.329753      1.899822     115395.615874  \n",
       "min        1.000000      0.499900      14999.000000  \n",
       "25%      280.000000      2.563400     119600.000000  \n",
       "50%      409.000000      3.534800     179700.000000  \n",
       "75%      605.000000      4.743250     264725.000000  \n",
       "max     6082.000000     15.000100     500001.000000  "
      ]
     },
     "execution_count": 4,
     "metadata": {},
     "output_type": "execute_result"
    }
   ],
   "source": [
    "housing.describe()"
   ]
  },
  {
   "cell_type": "code",
   "execution_count": 5,
   "metadata": {
    "scrolled": true
   },
   "outputs": [],
   "source": [
    "X = housing.drop(\"medianHouseValue\",axis = 1)"
   ]
  },
  {
   "cell_type": "code",
   "execution_count": 6,
   "metadata": {},
   "outputs": [],
   "source": [
    "y = housing['medianHouseValue']"
   ]
  },
  {
   "cell_type": "code",
   "execution_count": 7,
   "metadata": {},
   "outputs": [],
   "source": [
    "X_train, X_test, y_train, y_test = train_test_split(X, y, test_size=0.3, random_state=42)"
   ]
  },
  {
   "cell_type": "markdown",
   "metadata": {},
   "source": [
    "### Scale the Feature Data\n",
    "\n",
    "** Use sklearn preprocessing to create a MinMaxScaler for the feature data. Fit this scaler only to the training data. Then use it to transform X_test and X_train. Then use the scaled X_test and X_train along with pd.Dataframe to re-create two dataframes of scaled data.**"
   ]
  },
  {
   "cell_type": "code",
   "execution_count": 9,
   "metadata": {},
   "outputs": [],
   "source": [
    "from sklearn.preprocessing import MinMaxScaler"
   ]
  },
  {
   "cell_type": "code",
   "execution_count": 10,
   "metadata": {},
   "outputs": [],
   "source": [
    "scaler = MinMaxScaler()"
   ]
  },
  {
   "cell_type": "code",
   "execution_count": 12,
   "metadata": {},
   "outputs": [
    {
     "data": {
      "text/plain": [
       "MinMaxScaler(copy=True, feature_range=(0, 1))"
      ]
     },
     "execution_count": 12,
     "metadata": {},
     "output_type": "execute_result"
    }
   ],
   "source": [
    "scaler.fit(X)"
   ]
  },
  {
   "cell_type": "code",
   "execution_count": 13,
   "metadata": {},
   "outputs": [],
   "source": [
    "X_train = pd.DataFrame(data=scaler.transform(X_train),columns = X_train.columns,index=X_train.index)"
   ]
  },
  {
   "cell_type": "code",
   "execution_count": 14,
   "metadata": {},
   "outputs": [],
   "source": [
    "X_test = pd.DataFrame(data=scaler.transform(X_test),columns = X_test.columns,index=X_test.index)"
   ]
  },
  {
   "cell_type": "markdown",
   "metadata": {},
   "source": [
    "### Create Feature Columns\n",
    "\n",
    "** Create the necessary tf.feature_column objects for the estimator. They should all be trated as continuous numeric_columns. **"
   ]
  },
  {
   "cell_type": "code",
   "execution_count": 16,
   "metadata": {},
   "outputs": [
    {
     "data": {
      "text/plain": [
       "Index(['housingMedianAge', 'totalRooms', 'totalBedrooms', 'population',\n",
       "       'households', 'medianIncome', 'medianHouseValue'],\n",
       "      dtype='object')"
      ]
     },
     "execution_count": 16,
     "metadata": {},
     "output_type": "execute_result"
    }
   ],
   "source": [
    "housing.columns"
   ]
  },
  {
   "cell_type": "code",
   "execution_count": 17,
   "metadata": {},
   "outputs": [],
   "source": [
    "import tensorflow as tf"
   ]
  },
  {
   "cell_type": "code",
   "execution_count": 20,
   "metadata": {},
   "outputs": [],
   "source": [
    "age  = tf.feature_column.numeric_column('housingMedianAge')\n",
    "rooms = tf.feature_column.numeric_column('totalRooms')\n",
    "bedrooms = tf.feature_column.numeric_column('totalBedrooms')\n",
    "population = tf.feature_column.numeric_column('population')\n",
    "households = tf.feature_column.numeric_column('households')\n",
    "medIncome = tf.feature_column.numeric_column('medianIncome')"
   ]
  },
  {
   "cell_type": "code",
   "execution_count": 21,
   "metadata": {},
   "outputs": [],
   "source": [
    "feat_cols = [ age,rooms,bedrooms,population,households,medIncome]"
   ]
  },
  {
   "cell_type": "markdown",
   "metadata": {},
   "source": [
    "** Create the input function for the estimator object. (play around with batch_size and num_epochs)**"
   ]
  },
  {
   "cell_type": "code",
   "execution_count": 24,
   "metadata": {},
   "outputs": [],
   "source": [
    "input_func = tf.estimator.inputs.pandas_input_fn(x=X_train,y=y_train ,batch_size=10,num_epochs=1000,\n",
    "                                            shuffle=True)"
   ]
  },
  {
   "cell_type": "markdown",
   "metadata": {},
   "source": [
    "** Create the estimator model. Use a DNNRegressor. Play around with the hidden units! **"
   ]
  },
  {
   "cell_type": "code",
   "execution_count": 25,
   "metadata": {},
   "outputs": [
    {
     "name": "stdout",
     "output_type": "stream",
     "text": [
      "INFO:tensorflow:Using default config.\n",
      "WARNING:tensorflow:Using temporary folder as model directory: /tmp/tmp_986yqo9\n",
      "INFO:tensorflow:Using config: {'_model_dir': '/tmp/tmp_986yqo9', '_tf_random_seed': 1, '_save_summary_steps': 100, '_save_checkpoints_secs': 600, '_save_checkpoints_steps': None, '_session_config': None, '_keep_checkpoint_max': 5, '_keep_checkpoint_every_n_hours': 10000, '_log_step_count_steps': 100}\n"
     ]
    }
   ],
   "source": [
    "model = tf.estimator.DNNRegressor(hidden_units=[6,6,6],feature_columns=feat_cols)"
   ]
  },
  {
   "cell_type": "markdown",
   "metadata": {},
   "source": [
    "##### ** Train the model for ~1,000 steps. (Later come back to this and train it for more and check for improvement) **"
   ]
  },
  {
   "cell_type": "code",
   "execution_count": 26,
   "metadata": {},
   "outputs": [
    {
     "name": "stdout",
     "output_type": "stream",
     "text": [
      "INFO:tensorflow:Create CheckpointSaverHook.\n",
      "INFO:tensorflow:Saving checkpoints for 1 into /tmp/tmp_986yqo9/model.ckpt.\n",
      "INFO:tensorflow:loss = 632194470000.0, step = 1\n",
      "INFO:tensorflow:global_step/sec: 694.372\n",
      "INFO:tensorflow:loss = 253876220000.0, step = 101 (0.149 sec)\n",
      "INFO:tensorflow:global_step/sec: 719.21\n",
      "INFO:tensorflow:loss = 514768600000.0, step = 201 (0.137 sec)\n",
      "INFO:tensorflow:global_step/sec: 520.498\n",
      "INFO:tensorflow:loss = 657855300000.0, step = 301 (0.191 sec)\n",
      "INFO:tensorflow:global_step/sec: 455.561\n",
      "INFO:tensorflow:loss = 669232300000.0, step = 401 (0.223 sec)\n",
      "INFO:tensorflow:global_step/sec: 410.905\n",
      "INFO:tensorflow:loss = 584697800000.0, step = 501 (0.241 sec)\n",
      "INFO:tensorflow:global_step/sec: 582.931\n",
      "INFO:tensorflow:loss = 767403900000.0, step = 601 (0.170 sec)\n",
      "INFO:tensorflow:global_step/sec: 615.99\n",
      "INFO:tensorflow:loss = 427011150000.0, step = 701 (0.162 sec)\n",
      "INFO:tensorflow:global_step/sec: 572.936\n",
      "INFO:tensorflow:loss = 660988760000.0, step = 801 (0.176 sec)\n",
      "INFO:tensorflow:global_step/sec: 281.752\n",
      "INFO:tensorflow:loss = 242211210000.0, step = 901 (0.356 sec)\n",
      "INFO:tensorflow:global_step/sec: 328.096\n",
      "INFO:tensorflow:loss = 504063260000.0, step = 1001 (0.310 sec)\n",
      "INFO:tensorflow:global_step/sec: 535.165\n",
      "INFO:tensorflow:loss = 283313140000.0, step = 1101 (0.182 sec)\n",
      "INFO:tensorflow:global_step/sec: 613.295\n",
      "INFO:tensorflow:loss = 218979570000.0, step = 1201 (0.164 sec)\n",
      "INFO:tensorflow:global_step/sec: 526.62\n",
      "INFO:tensorflow:loss = 528407040000.0, step = 1301 (0.187 sec)\n",
      "INFO:tensorflow:global_step/sec: 562.586\n",
      "INFO:tensorflow:loss = 188386080000.0, step = 1401 (0.182 sec)\n",
      "INFO:tensorflow:global_step/sec: 568.772\n",
      "INFO:tensorflow:loss = 119072690000.0, step = 1501 (0.173 sec)\n",
      "INFO:tensorflow:global_step/sec: 562.471\n",
      "INFO:tensorflow:loss = 258883910000.0, step = 1601 (0.178 sec)\n",
      "INFO:tensorflow:global_step/sec: 558.244\n",
      "INFO:tensorflow:loss = 310522900000.0, step = 1701 (0.183 sec)\n",
      "INFO:tensorflow:global_step/sec: 565.586\n",
      "INFO:tensorflow:loss = 470915840000.0, step = 1801 (0.173 sec)\n",
      "INFO:tensorflow:global_step/sec: 537.835\n",
      "INFO:tensorflow:loss = 141963210000.0, step = 1901 (0.188 sec)\n",
      "INFO:tensorflow:global_step/sec: 535.132\n",
      "INFO:tensorflow:loss = 200399060000.0, step = 2001 (0.183 sec)\n",
      "INFO:tensorflow:global_step/sec: 571.124\n",
      "INFO:tensorflow:loss = 181381860000.0, step = 2101 (0.176 sec)\n",
      "INFO:tensorflow:global_step/sec: 547.923\n",
      "INFO:tensorflow:loss = 71538390000.0, step = 2201 (0.183 sec)\n",
      "INFO:tensorflow:global_step/sec: 608.217\n",
      "INFO:tensorflow:loss = 85261140000.0, step = 2301 (0.163 sec)\n",
      "INFO:tensorflow:global_step/sec: 567.872\n",
      "INFO:tensorflow:loss = 139756630000.0, step = 2401 (0.179 sec)\n",
      "INFO:tensorflow:global_step/sec: 537.284\n",
      "INFO:tensorflow:loss = 222090440000.0, step = 2501 (0.187 sec)\n",
      "INFO:tensorflow:global_step/sec: 532.711\n",
      "INFO:tensorflow:loss = 137505750000.0, step = 2601 (0.187 sec)\n",
      "INFO:tensorflow:global_step/sec: 506.68\n",
      "INFO:tensorflow:loss = 62997135000.0, step = 2701 (0.197 sec)\n",
      "INFO:tensorflow:global_step/sec: 536.008\n",
      "INFO:tensorflow:loss = 197348620000.0, step = 2801 (0.185 sec)\n",
      "INFO:tensorflow:global_step/sec: 597.718\n",
      "INFO:tensorflow:loss = 63774237000.0, step = 2901 (0.168 sec)\n",
      "INFO:tensorflow:global_step/sec: 547.661\n",
      "INFO:tensorflow:loss = 106905200000.0, step = 3001 (0.183 sec)\n",
      "INFO:tensorflow:global_step/sec: 534.987\n",
      "INFO:tensorflow:loss = 89467840000.0, step = 3101 (0.189 sec)\n",
      "INFO:tensorflow:global_step/sec: 530.408\n",
      "INFO:tensorflow:loss = 47613657000.0, step = 3201 (0.187 sec)\n",
      "INFO:tensorflow:global_step/sec: 512.126\n",
      "INFO:tensorflow:loss = 129399050000.0, step = 3301 (0.193 sec)\n",
      "INFO:tensorflow:global_step/sec: 516.336\n",
      "INFO:tensorflow:loss = 86594790000.0, step = 3401 (0.194 sec)\n",
      "INFO:tensorflow:global_step/sec: 498.774\n",
      "INFO:tensorflow:loss = 52840500000.0, step = 3501 (0.206 sec)\n",
      "INFO:tensorflow:global_step/sec: 486.949\n",
      "INFO:tensorflow:loss = 185038860000.0, step = 3601 (0.204 sec)\n",
      "INFO:tensorflow:global_step/sec: 367.771\n",
      "INFO:tensorflow:loss = 65156674000.0, step = 3701 (0.268 sec)\n",
      "INFO:tensorflow:global_step/sec: 524.825\n",
      "INFO:tensorflow:loss = 110830460000.0, step = 3801 (0.191 sec)\n",
      "INFO:tensorflow:global_step/sec: 412.454\n",
      "INFO:tensorflow:loss = 171930730000.0, step = 3901 (0.243 sec)\n",
      "INFO:tensorflow:global_step/sec: 473.935\n",
      "INFO:tensorflow:loss = 108811020000.0, step = 4001 (0.212 sec)\n",
      "INFO:tensorflow:global_step/sec: 542.597\n",
      "INFO:tensorflow:loss = 182756660000.0, step = 4101 (0.184 sec)\n",
      "INFO:tensorflow:global_step/sec: 604.876\n",
      "INFO:tensorflow:loss = 94010380000.0, step = 4201 (0.164 sec)\n",
      "INFO:tensorflow:global_step/sec: 597.615\n",
      "INFO:tensorflow:loss = 154007010000.0, step = 4301 (0.171 sec)\n",
      "INFO:tensorflow:global_step/sec: 622.454\n",
      "INFO:tensorflow:loss = 82903196000.0, step = 4401 (0.159 sec)\n",
      "INFO:tensorflow:global_step/sec: 607.151\n",
      "INFO:tensorflow:loss = 103568800000.0, step = 4501 (0.164 sec)\n",
      "INFO:tensorflow:global_step/sec: 584.782\n",
      "INFO:tensorflow:loss = 100281795000.0, step = 4601 (0.172 sec)\n",
      "INFO:tensorflow:global_step/sec: 578.072\n",
      "INFO:tensorflow:loss = 52012077000.0, step = 4701 (0.172 sec)\n",
      "INFO:tensorflow:global_step/sec: 631.069\n",
      "INFO:tensorflow:loss = 131960365000.0, step = 4801 (0.158 sec)\n",
      "INFO:tensorflow:global_step/sec: 563.209\n",
      "INFO:tensorflow:loss = 154089180000.0, step = 4901 (0.180 sec)\n",
      "INFO:tensorflow:global_step/sec: 593.695\n",
      "INFO:tensorflow:loss = 80503570000.0, step = 5001 (0.166 sec)\n",
      "INFO:tensorflow:global_step/sec: 524.136\n",
      "INFO:tensorflow:loss = 49544890000.0, step = 5101 (0.193 sec)\n",
      "INFO:tensorflow:global_step/sec: 322.483\n",
      "INFO:tensorflow:loss = 71530270000.0, step = 5201 (0.316 sec)\n",
      "INFO:tensorflow:global_step/sec: 411.32\n",
      "INFO:tensorflow:loss = 234404400000.0, step = 5301 (0.238 sec)\n",
      "INFO:tensorflow:global_step/sec: 565.526\n",
      "INFO:tensorflow:loss = 215613700000.0, step = 5401 (0.175 sec)\n",
      "INFO:tensorflow:global_step/sec: 405.642\n",
      "INFO:tensorflow:loss = 78275750000.0, step = 5501 (0.252 sec)\n",
      "INFO:tensorflow:global_step/sec: 430.152\n",
      "INFO:tensorflow:loss = 54785335000.0, step = 5601 (0.228 sec)\n",
      "INFO:tensorflow:global_step/sec: 440.793\n",
      "INFO:tensorflow:loss = 115536230000.0, step = 5701 (0.236 sec)\n",
      "INFO:tensorflow:global_step/sec: 344.057\n",
      "INFO:tensorflow:loss = 154890830000.0, step = 5801 (0.279 sec)\n",
      "INFO:tensorflow:global_step/sec: 506.02\n",
      "INFO:tensorflow:loss = 75788610000.0, step = 5901 (0.200 sec)\n",
      "INFO:tensorflow:global_step/sec: 370.413\n",
      "INFO:tensorflow:loss = 159031440000.0, step = 6001 (0.273 sec)\n",
      "INFO:tensorflow:global_step/sec: 449.611\n",
      "INFO:tensorflow:loss = 203620000000.0, step = 6101 (0.217 sec)\n",
      "INFO:tensorflow:global_step/sec: 534.577\n",
      "INFO:tensorflow:loss = 100566270000.0, step = 6201 (0.188 sec)\n",
      "INFO:tensorflow:global_step/sec: 542.498\n",
      "INFO:tensorflow:loss = 78260680000.0, step = 6301 (0.186 sec)\n",
      "INFO:tensorflow:global_step/sec: 567.857\n",
      "INFO:tensorflow:loss = 70741970000.0, step = 6401 (0.175 sec)\n",
      "INFO:tensorflow:global_step/sec: 521.188\n",
      "INFO:tensorflow:loss = 65454207000.0, step = 6501 (0.194 sec)\n",
      "INFO:tensorflow:global_step/sec: 527.815\n",
      "INFO:tensorflow:loss = 63687700000.0, step = 6601 (0.190 sec)\n",
      "INFO:tensorflow:global_step/sec: 555.097\n",
      "INFO:tensorflow:loss = 132209020000.0, step = 6701 (0.180 sec)\n",
      "INFO:tensorflow:global_step/sec: 301.296\n",
      "INFO:tensorflow:loss = 130686930000.0, step = 6801 (0.330 sec)\n",
      "INFO:tensorflow:global_step/sec: 529.142\n",
      "INFO:tensorflow:loss = 96984640000.0, step = 6901 (0.189 sec)\n",
      "INFO:tensorflow:global_step/sec: 465.89\n",
      "INFO:tensorflow:loss = 145949400000.0, step = 7001 (0.217 sec)\n",
      "INFO:tensorflow:global_step/sec: 524.736\n",
      "INFO:tensorflow:loss = 43425563000.0, step = 7101 (0.191 sec)\n",
      "INFO:tensorflow:global_step/sec: 531.004\n",
      "INFO:tensorflow:loss = 52187430000.0, step = 7201 (0.185 sec)\n",
      "INFO:tensorflow:global_step/sec: 560.629\n",
      "INFO:tensorflow:loss = 73598320000.0, step = 7301 (0.181 sec)\n",
      "INFO:tensorflow:global_step/sec: 525.783\n",
      "INFO:tensorflow:loss = 66741100000.0, step = 7401 (0.189 sec)\n",
      "INFO:tensorflow:global_step/sec: 559.67\n",
      "INFO:tensorflow:loss = 159802740000.0, step = 7501 (0.178 sec)\n",
      "INFO:tensorflow:global_step/sec: 541.753\n",
      "INFO:tensorflow:loss = 138882580000.0, step = 7601 (0.184 sec)\n",
      "INFO:tensorflow:global_step/sec: 579.62\n",
      "INFO:tensorflow:loss = 107888550000.0, step = 7701 (0.174 sec)\n",
      "INFO:tensorflow:global_step/sec: 576.828\n",
      "INFO:tensorflow:loss = 106028960000.0, step = 7801 (0.175 sec)\n"
     ]
    },
    {
     "name": "stdout",
     "output_type": "stream",
     "text": [
      "INFO:tensorflow:global_step/sec: 544.68\n",
      "INFO:tensorflow:loss = 65339175000.0, step = 7901 (0.182 sec)\n",
      "INFO:tensorflow:global_step/sec: 520.039\n",
      "INFO:tensorflow:loss = 95522900000.0, step = 8001 (0.192 sec)\n",
      "INFO:tensorflow:global_step/sec: 332.252\n",
      "INFO:tensorflow:loss = 40867734000.0, step = 8101 (0.302 sec)\n",
      "INFO:tensorflow:global_step/sec: 557.674\n",
      "INFO:tensorflow:loss = 46150353000.0, step = 8201 (0.178 sec)\n",
      "INFO:tensorflow:global_step/sec: 598.135\n",
      "INFO:tensorflow:loss = 72393820000.0, step = 8301 (0.168 sec)\n",
      "INFO:tensorflow:global_step/sec: 616.79\n",
      "INFO:tensorflow:loss = 91903000000.0, step = 8401 (0.160 sec)\n",
      "INFO:tensorflow:global_step/sec: 615.529\n",
      "INFO:tensorflow:loss = 130946670000.0, step = 8501 (0.164 sec)\n",
      "INFO:tensorflow:global_step/sec: 572.432\n",
      "INFO:tensorflow:loss = 113182170000.0, step = 8601 (0.173 sec)\n",
      "INFO:tensorflow:global_step/sec: 563.3\n",
      "INFO:tensorflow:loss = 137093380000.0, step = 8701 (0.177 sec)\n",
      "INFO:tensorflow:global_step/sec: 554.38\n",
      "INFO:tensorflow:loss = 110691200000.0, step = 8801 (0.180 sec)\n",
      "INFO:tensorflow:global_step/sec: 560.652\n",
      "INFO:tensorflow:loss = 69435920000.0, step = 8901 (0.179 sec)\n",
      "INFO:tensorflow:global_step/sec: 582.988\n",
      "INFO:tensorflow:loss = 143660250000.0, step = 9001 (0.173 sec)\n",
      "INFO:tensorflow:global_step/sec: 598.076\n",
      "INFO:tensorflow:loss = 119468010000.0, step = 9101 (0.167 sec)\n",
      "INFO:tensorflow:global_step/sec: 536.493\n",
      "INFO:tensorflow:loss = 25468290000.0, step = 9201 (0.186 sec)\n",
      "INFO:tensorflow:global_step/sec: 629.04\n",
      "INFO:tensorflow:loss = 45242515000.0, step = 9301 (0.160 sec)\n",
      "INFO:tensorflow:global_step/sec: 626.397\n",
      "INFO:tensorflow:loss = 41870217000.0, step = 9401 (0.159 sec)\n",
      "INFO:tensorflow:global_step/sec: 638.609\n",
      "INFO:tensorflow:loss = 79589196000.0, step = 9501 (0.157 sec)\n",
      "INFO:tensorflow:global_step/sec: 608.265\n",
      "INFO:tensorflow:loss = 160553090000.0, step = 9601 (0.164 sec)\n",
      "INFO:tensorflow:global_step/sec: 605.142\n",
      "INFO:tensorflow:loss = 39342090000.0, step = 9701 (0.166 sec)\n",
      "INFO:tensorflow:global_step/sec: 591.626\n",
      "INFO:tensorflow:loss = 63074116000.0, step = 9801 (0.169 sec)\n",
      "INFO:tensorflow:global_step/sec: 604.249\n",
      "INFO:tensorflow:loss = 57674330000.0, step = 9901 (0.167 sec)\n",
      "INFO:tensorflow:global_step/sec: 575.081\n",
      "INFO:tensorflow:loss = 142865560000.0, step = 10001 (0.172 sec)\n",
      "INFO:tensorflow:global_step/sec: 549.211\n",
      "INFO:tensorflow:loss = 116988610000.0, step = 10101 (0.183 sec)\n",
      "INFO:tensorflow:global_step/sec: 593.943\n",
      "INFO:tensorflow:loss = 134388600000.0, step = 10201 (0.168 sec)\n",
      "INFO:tensorflow:global_step/sec: 586.904\n",
      "INFO:tensorflow:loss = 91828440000.0, step = 10301 (0.175 sec)\n",
      "INFO:tensorflow:global_step/sec: 555.914\n",
      "INFO:tensorflow:loss = 116903870000.0, step = 10401 (0.175 sec)\n",
      "INFO:tensorflow:global_step/sec: 572.708\n",
      "INFO:tensorflow:loss = 76168495000.0, step = 10501 (0.173 sec)\n",
      "INFO:tensorflow:global_step/sec: 578.606\n",
      "INFO:tensorflow:loss = 20046650000.0, step = 10601 (0.175 sec)\n",
      "INFO:tensorflow:global_step/sec: 591.832\n",
      "INFO:tensorflow:loss = 147610520000.0, step = 10701 (0.169 sec)\n",
      "INFO:tensorflow:global_step/sec: 623.34\n",
      "INFO:tensorflow:loss = 83440800000.0, step = 10801 (0.160 sec)\n",
      "INFO:tensorflow:global_step/sec: 546.917\n",
      "INFO:tensorflow:loss = 167801950000.0, step = 10901 (0.183 sec)\n",
      "INFO:tensorflow:global_step/sec: 582.22\n",
      "INFO:tensorflow:loss = 98870360000.0, step = 11001 (0.175 sec)\n",
      "INFO:tensorflow:global_step/sec: 548.464\n",
      "INFO:tensorflow:loss = 77573760000.0, step = 11101 (0.182 sec)\n",
      "INFO:tensorflow:global_step/sec: 431.146\n",
      "INFO:tensorflow:loss = 54177520000.0, step = 11201 (0.230 sec)\n",
      "INFO:tensorflow:global_step/sec: 412.877\n",
      "INFO:tensorflow:loss = 72821160000.0, step = 11301 (0.252 sec)\n",
      "INFO:tensorflow:global_step/sec: 495.099\n",
      "INFO:tensorflow:loss = 80614630000.0, step = 11401 (0.193 sec)\n",
      "INFO:tensorflow:global_step/sec: 523.791\n",
      "INFO:tensorflow:loss = 48827343000.0, step = 11501 (0.192 sec)\n",
      "INFO:tensorflow:global_step/sec: 531.991\n",
      "INFO:tensorflow:loss = 82230900000.0, step = 11601 (0.186 sec)\n",
      "INFO:tensorflow:global_step/sec: 525.775\n",
      "INFO:tensorflow:loss = 161355560000.0, step = 11701 (0.190 sec)\n",
      "INFO:tensorflow:global_step/sec: 519.56\n",
      "INFO:tensorflow:loss = 149682030000.0, step = 11801 (0.195 sec)\n",
      "INFO:tensorflow:global_step/sec: 500.98\n",
      "INFO:tensorflow:loss = 159155700000.0, step = 11901 (0.198 sec)\n",
      "INFO:tensorflow:global_step/sec: 539.591\n",
      "INFO:tensorflow:loss = 46317253000.0, step = 12001 (0.187 sec)\n",
      "INFO:tensorflow:global_step/sec: 548.281\n",
      "INFO:tensorflow:loss = 138457830000.0, step = 12101 (0.183 sec)\n",
      "INFO:tensorflow:global_step/sec: 580.04\n",
      "INFO:tensorflow:loss = 165473900000.0, step = 12201 (0.172 sec)\n",
      "INFO:tensorflow:global_step/sec: 557.923\n",
      "INFO:tensorflow:loss = 95848860000.0, step = 12301 (0.179 sec)\n",
      "INFO:tensorflow:global_step/sec: 529.871\n",
      "INFO:tensorflow:loss = 119420715000.0, step = 12401 (0.188 sec)\n",
      "INFO:tensorflow:global_step/sec: 520.717\n",
      "INFO:tensorflow:loss = 71753530000.0, step = 12501 (0.191 sec)\n",
      "INFO:tensorflow:global_step/sec: 465.812\n",
      "INFO:tensorflow:loss = 79853160000.0, step = 12601 (0.218 sec)\n",
      "INFO:tensorflow:global_step/sec: 314.29\n",
      "INFO:tensorflow:loss = 59387523000.0, step = 12701 (0.315 sec)\n",
      "INFO:tensorflow:global_step/sec: 345.757\n",
      "INFO:tensorflow:loss = 70811240000.0, step = 12801 (0.291 sec)\n",
      "INFO:tensorflow:global_step/sec: 515.078\n",
      "INFO:tensorflow:loss = 19489102000.0, step = 12901 (0.193 sec)\n",
      "INFO:tensorflow:global_step/sec: 526.182\n",
      "INFO:tensorflow:loss = 160014000000.0, step = 13001 (0.191 sec)\n",
      "INFO:tensorflow:global_step/sec: 504.332\n",
      "INFO:tensorflow:loss = 249934380000.0, step = 13101 (0.194 sec)\n",
      "INFO:tensorflow:global_step/sec: 521.502\n",
      "INFO:tensorflow:loss = 146292700000.0, step = 13201 (0.194 sec)\n",
      "INFO:tensorflow:global_step/sec: 548.16\n",
      "INFO:tensorflow:loss = 137211850000.0, step = 13301 (0.183 sec)\n",
      "INFO:tensorflow:global_step/sec: 544.696\n",
      "INFO:tensorflow:loss = 68248680000.0, step = 13401 (0.183 sec)\n",
      "INFO:tensorflow:global_step/sec: 553.147\n",
      "INFO:tensorflow:loss = 38848210000.0, step = 13501 (0.179 sec)\n",
      "INFO:tensorflow:global_step/sec: 556.252\n",
      "INFO:tensorflow:loss = 99883220000.0, step = 13601 (0.181 sec)\n",
      "INFO:tensorflow:global_step/sec: 322.263\n",
      "INFO:tensorflow:loss = 83677770000.0, step = 13701 (0.314 sec)\n",
      "INFO:tensorflow:global_step/sec: 400.773\n",
      "INFO:tensorflow:loss = 70093620000.0, step = 13801 (0.247 sec)\n",
      "INFO:tensorflow:global_step/sec: 464.126\n",
      "INFO:tensorflow:loss = 105246490000.0, step = 13901 (0.215 sec)\n",
      "INFO:tensorflow:global_step/sec: 586.014\n",
      "INFO:tensorflow:loss = 164341920000.0, step = 14001 (0.168 sec)\n",
      "INFO:tensorflow:global_step/sec: 569.151\n",
      "INFO:tensorflow:loss = 48669400000.0, step = 14101 (0.178 sec)\n",
      "INFO:tensorflow:global_step/sec: 523.581\n",
      "INFO:tensorflow:loss = 60213043000.0, step = 14201 (0.191 sec)\n",
      "INFO:tensorflow:global_step/sec: 522.117\n",
      "INFO:tensorflow:loss = 77228520000.0, step = 14301 (0.192 sec)\n",
      "INFO:tensorflow:global_step/sec: 515.092\n",
      "INFO:tensorflow:loss = 48419760000.0, step = 14401 (0.192 sec)\n",
      "INFO:tensorflow:global_step/sec: 562.584\n",
      "INFO:tensorflow:loss = 40359432000.0, step = 14501 (0.178 sec)\n",
      "INFO:tensorflow:global_step/sec: 553.535\n",
      "INFO:tensorflow:loss = 68733250000.0, step = 14601 (0.180 sec)\n",
      "INFO:tensorflow:global_step/sec: 525.284\n",
      "INFO:tensorflow:loss = 143349800000.0, step = 14701 (0.192 sec)\n",
      "INFO:tensorflow:global_step/sec: 605.882\n",
      "INFO:tensorflow:loss = 154182470000.0, step = 14801 (0.165 sec)\n",
      "INFO:tensorflow:global_step/sec: 552.502\n",
      "INFO:tensorflow:loss = 101862160000.0, step = 14901 (0.180 sec)\n",
      "INFO:tensorflow:global_step/sec: 544.011\n",
      "INFO:tensorflow:loss = 91260130000.0, step = 15001 (0.186 sec)\n",
      "INFO:tensorflow:global_step/sec: 584.504\n",
      "INFO:tensorflow:loss = 76354620000.0, step = 15101 (0.170 sec)\n",
      "INFO:tensorflow:global_step/sec: 363.944\n",
      "INFO:tensorflow:loss = 50440585000.0, step = 15201 (0.279 sec)\n",
      "INFO:tensorflow:global_step/sec: 386.503\n",
      "INFO:tensorflow:loss = 124250410000.0, step = 15301 (0.254 sec)\n",
      "INFO:tensorflow:global_step/sec: 492.14\n",
      "INFO:tensorflow:loss = 47821353000.0, step = 15401 (0.205 sec)\n",
      "INFO:tensorflow:global_step/sec: 499.381\n",
      "INFO:tensorflow:loss = 134457340000.0, step = 15501 (0.200 sec)\n",
      "INFO:tensorflow:global_step/sec: 525.179\n",
      "INFO:tensorflow:loss = 127577145000.0, step = 15601 (0.191 sec)\n",
      "INFO:tensorflow:global_step/sec: 422.75\n",
      "INFO:tensorflow:loss = 120765690000.0, step = 15701 (0.236 sec)\n"
     ]
    },
    {
     "name": "stdout",
     "output_type": "stream",
     "text": [
      "INFO:tensorflow:global_step/sec: 547.223\n",
      "INFO:tensorflow:loss = 157041700000.0, step = 15801 (0.181 sec)\n",
      "INFO:tensorflow:global_step/sec: 573.957\n",
      "INFO:tensorflow:loss = 78042440000.0, step = 15901 (0.173 sec)\n",
      "INFO:tensorflow:global_step/sec: 600.737\n",
      "INFO:tensorflow:loss = 103360220000.0, step = 16001 (0.167 sec)\n",
      "INFO:tensorflow:global_step/sec: 598.879\n",
      "INFO:tensorflow:loss = 137963370000.0, step = 16101 (0.169 sec)\n",
      "INFO:tensorflow:global_step/sec: 624.485\n",
      "INFO:tensorflow:loss = 72667630000.0, step = 16201 (0.159 sec)\n",
      "INFO:tensorflow:global_step/sec: 609.674\n",
      "INFO:tensorflow:loss = 70066670000.0, step = 16301 (0.163 sec)\n",
      "INFO:tensorflow:global_step/sec: 614.627\n",
      "INFO:tensorflow:loss = 57641816000.0, step = 16401 (0.163 sec)\n",
      "INFO:tensorflow:global_step/sec: 610.009\n",
      "INFO:tensorflow:loss = 89095360000.0, step = 16501 (0.162 sec)\n",
      "INFO:tensorflow:global_step/sec: 606.803\n",
      "INFO:tensorflow:loss = 200261040000.0, step = 16601 (0.166 sec)\n",
      "INFO:tensorflow:global_step/sec: 636.834\n",
      "INFO:tensorflow:loss = 72595775000.0, step = 16701 (0.158 sec)\n",
      "INFO:tensorflow:global_step/sec: 611.342\n",
      "INFO:tensorflow:loss = 174619820000.0, step = 16801 (0.164 sec)\n",
      "INFO:tensorflow:global_step/sec: 628.371\n",
      "INFO:tensorflow:loss = 90208390000.0, step = 16901 (0.157 sec)\n",
      "INFO:tensorflow:global_step/sec: 613.114\n",
      "INFO:tensorflow:loss = 69822740000.0, step = 17001 (0.165 sec)\n",
      "INFO:tensorflow:global_step/sec: 575.019\n",
      "INFO:tensorflow:loss = 123492610000.0, step = 17101 (0.173 sec)\n",
      "INFO:tensorflow:global_step/sec: 600.128\n",
      "INFO:tensorflow:loss = 142275790000.0, step = 17201 (0.167 sec)\n",
      "INFO:tensorflow:global_step/sec: 589.894\n",
      "INFO:tensorflow:loss = 240210590000.0, step = 17301 (0.167 sec)\n",
      "INFO:tensorflow:global_step/sec: 623.093\n",
      "INFO:tensorflow:loss = 141904020000.0, step = 17401 (0.161 sec)\n",
      "INFO:tensorflow:global_step/sec: 617.92\n",
      "INFO:tensorflow:loss = 43486460000.0, step = 17501 (0.161 sec)\n",
      "INFO:tensorflow:global_step/sec: 609.4\n",
      "INFO:tensorflow:loss = 121301250000.0, step = 17601 (0.166 sec)\n",
      "INFO:tensorflow:global_step/sec: 586.732\n",
      "INFO:tensorflow:loss = 221917630000.0, step = 17701 (0.169 sec)\n",
      "INFO:tensorflow:global_step/sec: 588.335\n",
      "INFO:tensorflow:loss = 212903000000.0, step = 17801 (0.170 sec)\n",
      "INFO:tensorflow:global_step/sec: 614.605\n",
      "INFO:tensorflow:loss = 105078780000.0, step = 17901 (0.163 sec)\n",
      "INFO:tensorflow:global_step/sec: 621.021\n",
      "INFO:tensorflow:loss = 84286170000.0, step = 18001 (0.160 sec)\n",
      "INFO:tensorflow:global_step/sec: 630.644\n",
      "INFO:tensorflow:loss = 54281187000.0, step = 18101 (0.160 sec)\n",
      "INFO:tensorflow:global_step/sec: 584.157\n",
      "INFO:tensorflow:loss = 181329840000.0, step = 18201 (0.172 sec)\n",
      "INFO:tensorflow:global_step/sec: 607.498\n",
      "INFO:tensorflow:loss = 99940630000.0, step = 18301 (0.166 sec)\n",
      "INFO:tensorflow:global_step/sec: 616.712\n",
      "INFO:tensorflow:loss = 68820950000.0, step = 18401 (0.159 sec)\n",
      "INFO:tensorflow:global_step/sec: 567.649\n",
      "INFO:tensorflow:loss = 28195193000.0, step = 18501 (0.179 sec)\n",
      "INFO:tensorflow:global_step/sec: 609.666\n",
      "INFO:tensorflow:loss = 100404270000.0, step = 18601 (0.161 sec)\n",
      "INFO:tensorflow:global_step/sec: 646.023\n",
      "INFO:tensorflow:loss = 140247700000.0, step = 18701 (0.157 sec)\n",
      "INFO:tensorflow:global_step/sec: 632.002\n",
      "INFO:tensorflow:loss = 136042540000.0, step = 18801 (0.159 sec)\n",
      "INFO:tensorflow:global_step/sec: 586.213\n",
      "INFO:tensorflow:loss = 58813587000.0, step = 18901 (0.168 sec)\n",
      "INFO:tensorflow:global_step/sec: 582.922\n",
      "INFO:tensorflow:loss = 78450690000.0, step = 19001 (0.176 sec)\n",
      "INFO:tensorflow:global_step/sec: 573.564\n",
      "INFO:tensorflow:loss = 89686606000.0, step = 19101 (0.170 sec)\n",
      "INFO:tensorflow:global_step/sec: 635.654\n",
      "INFO:tensorflow:loss = 126905300000.0, step = 19201 (0.158 sec)\n",
      "INFO:tensorflow:global_step/sec: 592.128\n",
      "INFO:tensorflow:loss = 138029330000.0, step = 19301 (0.168 sec)\n",
      "INFO:tensorflow:global_step/sec: 512.615\n",
      "INFO:tensorflow:loss = 82701290000.0, step = 19401 (0.194 sec)\n",
      "INFO:tensorflow:global_step/sec: 500.071\n",
      "INFO:tensorflow:loss = 79397560000.0, step = 19501 (0.204 sec)\n",
      "INFO:tensorflow:global_step/sec: 360.396\n",
      "INFO:tensorflow:loss = 176088250000.0, step = 19601 (0.278 sec)\n",
      "INFO:tensorflow:global_step/sec: 470.314\n",
      "INFO:tensorflow:loss = 100927340000.0, step = 19701 (0.210 sec)\n",
      "INFO:tensorflow:global_step/sec: 613.168\n",
      "INFO:tensorflow:loss = 73882075000.0, step = 19801 (0.165 sec)\n",
      "INFO:tensorflow:global_step/sec: 584.166\n",
      "INFO:tensorflow:loss = 34790818000.0, step = 19901 (0.169 sec)\n",
      "INFO:tensorflow:global_step/sec: 476.738\n",
      "INFO:tensorflow:loss = 227432700000.0, step = 20001 (0.208 sec)\n",
      "INFO:tensorflow:global_step/sec: 569.474\n",
      "INFO:tensorflow:loss = 83184780000.0, step = 20101 (0.177 sec)\n",
      "INFO:tensorflow:global_step/sec: 624.271\n",
      "INFO:tensorflow:loss = 69598390000.0, step = 20201 (0.159 sec)\n",
      "INFO:tensorflow:global_step/sec: 595.988\n",
      "INFO:tensorflow:loss = 56635916000.0, step = 20301 (0.168 sec)\n",
      "INFO:tensorflow:global_step/sec: 600.628\n",
      "INFO:tensorflow:loss = 63186223000.0, step = 20401 (0.166 sec)\n",
      "INFO:tensorflow:global_step/sec: 606.864\n",
      "INFO:tensorflow:loss = 116785440000.0, step = 20501 (0.163 sec)\n",
      "INFO:tensorflow:global_step/sec: 572.593\n",
      "INFO:tensorflow:loss = 152565710000.0, step = 20601 (0.177 sec)\n",
      "INFO:tensorflow:global_step/sec: 601.316\n",
      "INFO:tensorflow:loss = 175057140000.0, step = 20701 (0.165 sec)\n",
      "INFO:tensorflow:global_step/sec: 615.528\n",
      "INFO:tensorflow:loss = 160683540000.0, step = 20801 (0.162 sec)\n",
      "INFO:tensorflow:global_step/sec: 617.55\n",
      "INFO:tensorflow:loss = 89519570000.0, step = 20901 (0.161 sec)\n",
      "INFO:tensorflow:global_step/sec: 561.04\n",
      "INFO:tensorflow:loss = 79463310000.0, step = 21001 (0.181 sec)\n",
      "INFO:tensorflow:global_step/sec: 619.792\n",
      "INFO:tensorflow:loss = 112388850000.0, step = 21101 (0.162 sec)\n",
      "INFO:tensorflow:global_step/sec: 574.683\n",
      "INFO:tensorflow:loss = 104203710000.0, step = 21201 (0.172 sec)\n",
      "INFO:tensorflow:global_step/sec: 581.48\n",
      "INFO:tensorflow:loss = 109095590000.0, step = 21301 (0.173 sec)\n",
      "INFO:tensorflow:global_step/sec: 615.83\n",
      "INFO:tensorflow:loss = 112224485000.0, step = 21401 (0.163 sec)\n",
      "INFO:tensorflow:global_step/sec: 615.594\n",
      "INFO:tensorflow:loss = 25151270000.0, step = 21501 (0.160 sec)\n",
      "INFO:tensorflow:global_step/sec: 567.284\n",
      "INFO:tensorflow:loss = 120006840000.0, step = 21601 (0.180 sec)\n",
      "INFO:tensorflow:global_step/sec: 611.305\n",
      "INFO:tensorflow:loss = 67232334000.0, step = 21701 (0.159 sec)\n",
      "INFO:tensorflow:global_step/sec: 625.079\n",
      "INFO:tensorflow:loss = 31526650000.0, step = 21801 (0.160 sec)\n",
      "INFO:tensorflow:global_step/sec: 567.898\n",
      "INFO:tensorflow:loss = 88787436000.0, step = 21901 (0.178 sec)\n",
      "INFO:tensorflow:global_step/sec: 619.924\n",
      "INFO:tensorflow:loss = 126312964000.0, step = 22001 (0.161 sec)\n",
      "INFO:tensorflow:global_step/sec: 604.49\n",
      "INFO:tensorflow:loss = 103933485000.0, step = 22101 (0.164 sec)\n",
      "INFO:tensorflow:global_step/sec: 562.452\n",
      "INFO:tensorflow:loss = 23585890000.0, step = 22201 (0.178 sec)\n",
      "INFO:tensorflow:global_step/sec: 611.374\n",
      "INFO:tensorflow:loss = 161674440000.0, step = 22301 (0.163 sec)\n",
      "INFO:tensorflow:global_step/sec: 594.4\n",
      "INFO:tensorflow:loss = 79334370000.0, step = 22401 (0.170 sec)\n",
      "INFO:tensorflow:global_step/sec: 410.643\n",
      "INFO:tensorflow:loss = 94722744000.0, step = 22501 (0.245 sec)\n",
      "INFO:tensorflow:global_step/sec: 610.067\n",
      "INFO:tensorflow:loss = 82440675000.0, step = 22601 (0.162 sec)\n",
      "INFO:tensorflow:global_step/sec: 601.947\n",
      "INFO:tensorflow:loss = 76880360000.0, step = 22701 (0.164 sec)\n",
      "INFO:tensorflow:global_step/sec: 604.999\n",
      "INFO:tensorflow:loss = 49360486000.0, step = 22801 (0.165 sec)\n",
      "INFO:tensorflow:global_step/sec: 524.489\n",
      "INFO:tensorflow:loss = 54504260000.0, step = 22901 (0.190 sec)\n",
      "INFO:tensorflow:global_step/sec: 607.829\n",
      "INFO:tensorflow:loss = 130312410000.0, step = 23001 (0.166 sec)\n",
      "INFO:tensorflow:global_step/sec: 617.792\n",
      "INFO:tensorflow:loss = 96772870000.0, step = 23101 (0.162 sec)\n",
      "INFO:tensorflow:global_step/sec: 606.271\n",
      "INFO:tensorflow:loss = 109730200000.0, step = 23201 (0.166 sec)\n",
      "INFO:tensorflow:global_step/sec: 575.379\n",
      "INFO:tensorflow:loss = 119434780000.0, step = 23301 (0.172 sec)\n",
      "INFO:tensorflow:global_step/sec: 605.204\n",
      "INFO:tensorflow:loss = 81484840000.0, step = 23401 (0.166 sec)\n",
      "INFO:tensorflow:global_step/sec: 575.681\n",
      "INFO:tensorflow:loss = 173619180000.0, step = 23501 (0.176 sec)\n",
      "INFO:tensorflow:global_step/sec: 622.025\n",
      "INFO:tensorflow:loss = 92748560000.0, step = 23601 (0.160 sec)\n"
     ]
    },
    {
     "name": "stdout",
     "output_type": "stream",
     "text": [
      "INFO:tensorflow:global_step/sec: 567.558\n",
      "INFO:tensorflow:loss = 41109357000.0, step = 23701 (0.177 sec)\n",
      "INFO:tensorflow:global_step/sec: 567.975\n",
      "INFO:tensorflow:loss = 151145610000.0, step = 23801 (0.174 sec)\n",
      "INFO:tensorflow:global_step/sec: 637.17\n",
      "INFO:tensorflow:loss = 89978860000.0, step = 23901 (0.155 sec)\n",
      "INFO:tensorflow:global_step/sec: 615.027\n",
      "INFO:tensorflow:loss = 262976670000.0, step = 24001 (0.162 sec)\n",
      "INFO:tensorflow:global_step/sec: 530.992\n",
      "INFO:tensorflow:loss = 74045930000.0, step = 24101 (0.190 sec)\n",
      "INFO:tensorflow:global_step/sec: 577.214\n",
      "INFO:tensorflow:loss = 128185330000.0, step = 24201 (0.172 sec)\n",
      "INFO:tensorflow:global_step/sec: 597.862\n",
      "INFO:tensorflow:loss = 98182590000.0, step = 24301 (0.169 sec)\n",
      "INFO:tensorflow:global_step/sec: 640.233\n",
      "INFO:tensorflow:loss = 38504296000.0, step = 24401 (0.155 sec)\n",
      "INFO:tensorflow:global_step/sec: 619.022\n",
      "INFO:tensorflow:loss = 133934530000.0, step = 24501 (0.161 sec)\n",
      "INFO:tensorflow:global_step/sec: 627.719\n",
      "INFO:tensorflow:loss = 60787690000.0, step = 24601 (0.162 sec)\n",
      "INFO:tensorflow:global_step/sec: 603.472\n",
      "INFO:tensorflow:loss = 133312530000.0, step = 24701 (0.164 sec)\n",
      "INFO:tensorflow:global_step/sec: 573.328\n",
      "INFO:tensorflow:loss = 168747680000.0, step = 24801 (0.175 sec)\n",
      "INFO:tensorflow:global_step/sec: 613.672\n",
      "INFO:tensorflow:loss = 202604100000.0, step = 24901 (0.161 sec)\n",
      "INFO:tensorflow:Saving checkpoints for 25000 into /tmp/tmp_986yqo9/model.ckpt.\n",
      "INFO:tensorflow:Loss for final step: 142212960000.0.\n"
     ]
    },
    {
     "data": {
      "text/plain": [
       "<tensorflow.python.estimator.canned.dnn.DNNRegressor at 0x7f7dd38ff320>"
      ]
     },
     "execution_count": 26,
     "metadata": {},
     "output_type": "execute_result"
    }
   ],
   "source": [
    "model.train(input_func,steps=25000)"
   ]
  },
  {
   "cell_type": "markdown",
   "metadata": {},
   "source": [
    "** Create a prediction input function and then use the .predict method off your estimator model to create a list or predictions on your test data. **"
   ]
  },
  {
   "cell_type": "code",
   "execution_count": 27,
   "metadata": {},
   "outputs": [],
   "source": [
    "predict_input_func = tf.estimator.inputs.pandas_input_fn(\n",
    "      x=X_test,\n",
    "      batch_size=10,\n",
    "      num_epochs=1,\n",
    "      shuffle=False)"
   ]
  },
  {
   "cell_type": "code",
   "execution_count": 28,
   "metadata": {},
   "outputs": [],
   "source": [
    "pred_gen = model.predict(predict_input_func)"
   ]
  },
  {
   "cell_type": "code",
   "execution_count": 29,
   "metadata": {},
   "outputs": [
    {
     "name": "stdout",
     "output_type": "stream",
     "text": [
      "INFO:tensorflow:Restoring parameters from /tmp/tmp_986yqo9/model.ckpt-25000\n"
     ]
    }
   ],
   "source": [
    "predictions = list(pred_gen)"
   ]
  },
  {
   "cell_type": "markdown",
   "metadata": {},
   "source": [
    "** Calculate the RMSE. You should be able to get around 100,000 RMSE (remember that this is in the same units as the label.) Do this manually or use [sklearn.metrics](http://scikit-learn.org/stable/modules/generated/sklearn.metrics.mean_squared_error.html) **"
   ]
  },
  {
   "cell_type": "code",
   "execution_count": 30,
   "metadata": {},
   "outputs": [],
   "source": [
    "final_preds = []\n",
    "for pred in predictions:\n",
    "    final_preds.append(pred['predictions'])"
   ]
  },
  {
   "cell_type": "code",
   "execution_count": 31,
   "metadata": {},
   "outputs": [],
   "source": [
    "from sklearn.metrics import mean_squared_error"
   ]
  },
  {
   "cell_type": "code",
   "execution_count": 32,
   "metadata": {},
   "outputs": [
    {
     "data": {
      "text/plain": [
       "97574.11289878124"
      ]
     },
     "execution_count": 32,
     "metadata": {},
     "output_type": "execute_result"
    }
   ],
   "source": [
    "mean_squared_error(y_test,final_preds)**0.5"
   ]
  },
  {
   "cell_type": "code",
   "execution_count": 33,
   "metadata": {},
   "outputs": [],
   "source": [
    "eval_input_func = tf.estimator.inputs.pandas_input_fn(x=X_test,y=y_test,batch_size = 10,\n",
    "      num_epochs=1,\n",
    "      shuffle=False)"
   ]
  },
  {
   "cell_type": "code",
   "execution_count": 34,
   "metadata": {},
   "outputs": [
    {
     "name": "stdout",
     "output_type": "stream",
     "text": [
      "INFO:tensorflow:Starting evaluation at 2018-11-06-07:55:09\n",
      "INFO:tensorflow:Restoring parameters from /tmp/tmp_986yqo9/model.ckpt-25000\n",
      "INFO:tensorflow:Finished evaluation at 2018-11-06-07:55:10\n",
      "INFO:tensorflow:Saving dict for global step 25000: average_loss = 9520702000.0, global_step = 25000, loss = 95084180000.0\n"
     ]
    },
    {
     "data": {
      "text/plain": [
       "{'average_loss': 9520702000.0, 'loss': 95084180000.0, 'global_step': 25000}"
      ]
     },
     "execution_count": 34,
     "metadata": {},
     "output_type": "execute_result"
    }
   ],
   "source": [
    "model.evaluate(eval_input_func)"
   ]
  },
  {
   "cell_type": "markdown",
   "metadata": {},
   "source": [
    "# Great Job!"
   ]
  }
 ],
 "metadata": {
  "kernelspec": {
   "display_name": "Python 3",
   "language": "python",
   "name": "python3"
  },
  "language_info": {
   "codemirror_mode": {
    "name": "ipython",
    "version": 3
   },
   "file_extension": ".py",
   "mimetype": "text/x-python",
   "name": "python",
   "nbconvert_exporter": "python",
   "pygments_lexer": "ipython3",
   "version": "3.6.5"
  }
 },
 "nbformat": 4,
 "nbformat_minor": 2
}
